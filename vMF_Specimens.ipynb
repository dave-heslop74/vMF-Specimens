{
 "cells": [
  {
   "cell_type": "markdown",
   "metadata": {},
   "source": [
    "# Specimen Directional Uncertainty\n",
    "## by D. Heslop (david.heslop@anu.edu.au) & A. P. Roberts\n",
    "\n",
    "**Heslop, D. & A. P. Roberts (2020). Uncertainty propagation for paleomagnetic directions, *Journal of Geophysical Research*, 125, e2020JB019488.** https://doi.org/10.1029/2020JB019488"
   ]
  },
  {
   "cell_type": "code",
   "execution_count": 2,
   "metadata": {},
   "outputs": [],
   "source": [
    "import vMF_Specimens as sm"
   ]
  },
  {
   "cell_type": "markdown",
   "metadata": {},
   "source": [
    "<hr style=\"height:2px;border:none;color:#333;background-color:#333;\" />\n",
    "\n",
    "## Specimen parameters\n",
    "Enter your PCA estimated directions in the form below (one row per specimen):\n",
    "1. **Dec [deg.]** - PCA declination in degrees [value between 0$^\\circ$ and 360$^\\circ$]. \n",
    "2. **Inc [deg.]** - PCA inclination in degrees [value between -90$^\\circ$ and +90$^\\circ$].\n",
    "3. **n** - Number of demagnetization points used in the PCA  [value $>$1].\n",
    "4. **MAD [deg.]** - PCA maximum angular deviation in degrees [value between 0$^\\circ$ and 90$^\\circ$].\n",
    "5. **Anchored** - Check this option for PCA fits anchored to the origin"
   ]
  },
  {
   "cell_type": "code",
   "execution_count": null,
   "metadata": {},
   "outputs": [],
   "source": [
    "X = {}\n",
    "X = sm.input_frame(X)"
   ]
  },
  {
   "cell_type": "markdown",
   "metadata": {},
   "source": [
    "<hr style=\"height:2px;border:none;color:#333;background-color:#333;\" />\n",
    "\n",
    "## Process data\n",
    "Once your data form is complete, click the ```Process Data``` button."
   ]
  },
  {
   "cell_type": "code",
   "execution_count": null,
   "metadata": {},
   "outputs": [],
   "source": [
    "pe = sm.LoadedButton(description=\"Process Data\", value=X)\n",
    "pe.on_click(sm.process)\n",
    "display(pe)\n",
    "X = pe.value"
   ]
  }
 ],
 "metadata": {
  "kernelspec": {
   "display_name": "Python 3",
   "language": "python",
   "name": "python3"
  },
  "language_info": {
   "codemirror_mode": {
    "name": "ipython",
    "version": 3
   },
   "file_extension": ".py",
   "mimetype": "text/x-python",
   "name": "python",
   "nbconvert_exporter": "python",
   "pygments_lexer": "ipython3",
   "version": "3.6.6"
  }
 },
 "nbformat": 4,
 "nbformat_minor": 2
}
